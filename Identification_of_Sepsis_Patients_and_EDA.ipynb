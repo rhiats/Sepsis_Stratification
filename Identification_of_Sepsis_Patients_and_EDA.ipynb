{
  "cells": [
    {
      "cell_type": "markdown",
      "metadata": {
        "id": "view-in-github",
        "colab_type": "text"
      },
      "source": [
        "<a href=\"https://colab.research.google.com/github/rhiats/Sepsis_Stratification/blob/main/Identification_of_Sepsis_Patients_and_EDA.ipynb\" target=\"_parent\"><img src=\"https://colab.research.google.com/assets/colab-badge.svg\" alt=\"Open In Colab\"/></a>"
      ]
    },
    {
      "cell_type": "markdown",
      "metadata": {
        "id": "y_NQNBWaDUii"
      },
      "source": [
        "**Identification of Sepsis Patients and Exploratory Data Analysis**\n",
        "\n",
        "Person diagnosed with Sepsis using ICD Code.\n",
        "\n",
        "Admissions- breakdown of insurance type\n",
        "\n",
        "Admissions - gender\n",
        "\n",
        "Prescriptions - Top 5 drugs\n",
        "\n",
        "Prescriptions - Distribution number of drugs per patient\n",
        "\n",
        "References:\n",
        "\n",
        "https://physionet.org/content/mimic3-carevue/1.4/\n",
        "\n",
        "https://machinelearningmastery.com/why-one-hot-encode-data-in-machine-learning/\n",
        "\n",
        "https://catalyst.nejm.org/doi/pdf/10.1056/CAT.22.0084\n",
        "\n",
        "https://dl.acm.org/doi/pdf/10.1145/3014812.3014874\n",
        "\n",
        "https://link.springer.com/article/10.1007/s11606-018-4760-8\n",
        "\n",
        "https://www.nature.com/articles/s41467-023-37653-z\n",
        "\n",
        "https://www.nature.com/articles/s41598-022-05088-z"
      ]
    },
    {
      "cell_type": "code",
      "execution_count": null,
      "metadata": {
        "id": "upA1oyiGDcnY"
      },
      "outputs": [],
      "source": [
        "import pandas as pd\n",
        "import seaborn as sns\n",
        "import matplotlib.pyplot as plt\n",
        "import numpy as np"
      ]
    },
    {
      "cell_type": "code",
      "execution_count": null,
      "metadata": {
        "colab": {
          "base_uri": "https://localhost:8080/"
        },
        "id": "RuIGYUzDDnTN",
        "outputId": "8b8db05b-b18f-4746-afe0-ecf5a2818236"
      },
      "outputs": [
        {
          "output_type": "stream",
          "name": "stderr",
          "text": [
            "<ipython-input-3-3b49b68e548a>:3: DtypeWarning: Columns (11) have mixed types. Specify dtype option on import or set low_memory=False.\n",
            "  df_presciptions=pd.read_csv('/content/drive/MyDrive/assignments/Spring24/MLHealth/Final Project/mimic-iii-clinical-database-carevue-subset-1.4/PRESCRIPTIONS.csv.gz', compression='gzip')\n"
          ]
        }
      ],
      "source": [
        "df_admissions=pd.read_csv('/content/drive/MyDrive/assignments/Spring24/MLHealth/Final Project/mimic-iii-clinical-database-carevue-subset-1.4/ADMISSIONS.csv.gz', compression='gzip')\n",
        "df_patients=pd.read_csv('/content/drive/MyDrive/assignments/Spring24/MLHealth/Final Project/mimic-iii-clinical-database-carevue-subset-1.4/PATIENTS.csv.gz', compression='gzip')\n",
        "df_presciptions=pd.read_csv('/content/drive/MyDrive/assignments/Spring24/MLHealth/Final Project/mimic-iii-clinical-database-carevue-subset-1.4/PRESCRIPTIONS.csv.gz', compression='gzip')\n",
        "df_mb=pd.read_csv('/content/drive/MyDrive/assignments/Spring24/MLHealth/Final Project/mimic-iii-clinical-database-carevue-subset-1.4/MICROBIOLOGYEVENTS.csv.gz', compression='gzip')\n",
        "df_events=pd.read_csv('/content/drive/MyDrive/assignments/Spring24/MLHealth/Final Project/mimic-iii-clinical-database-carevue-subset-1.4/LABEVENTS.csv.gz', compression='gzip')\n",
        "df_services=pd.read_csv('/content/drive/MyDrive/assignments/Spring24/MLHealth/Final Project/mimic-iii-clinical-database-carevue-subset-1.4/SERVICES.csv.gz', compression='gzip')\n",
        "df_icd_diag=pd.read_csv('/content/drive/MyDrive/assignments/Spring24/MLHealth/Final Project/mimic-iii-clinical-database-carevue-subset-1.4/DIAGNOSES_ICD.csv.gz', compression='gzip')\n",
        "chart_events_chunk=pd.read_csv('/content/drive/MyDrive/assignments/Spring24/MLHealth/Final Project/mimic-iii-clinical-database-carevue-subset-1.4/CHARTEVENTS.csv.gz', compression='gzip', usecols=['subject_id','charttime','value','valueuom'], na_filter=False, chunksize=10000)"
      ]
    },
    {
      "cell_type": "markdown",
      "metadata": {
        "id": "TtDkwC_FNEaS"
      },
      "source": [
        "**24 Hour Reference Table**"
      ]
    },
    {
      "cell_type": "code",
      "execution_count": null,
      "metadata": {
        "colab": {
          "base_uri": "https://localhost:8080/"
        },
        "id": "2z2BjtfJNBCP",
        "outputId": "9814b384-d644-4b40-ee5b-ee8a8f464f80"
      },
      "outputs": [
        {
          "output_type": "stream",
          "name": "stderr",
          "text": [
            "<ipython-input-4-86483a13871f>:4: SettingWithCopyWarning: \n",
            "A value is trying to be set on a copy of a slice from a DataFrame\n",
            "\n",
            "See the caveats in the documentation: https://pandas.pydata.org/pandas-docs/stable/user_guide/indexing.html#returning-a-view-versus-a-copy\n",
            "  df_time_range.drop_duplicates(inplace=True)\n"
          ]
        }
      ],
      "source": [
        "df_admissions['admittime'] = pd.to_datetime(df_admissions['admittime'], infer_datetime_format=True)\n",
        "df_admissions['admittime_24']= df_admissions['admittime'] + pd.Timedelta(hours=24)\n",
        "df_time_range=df_admissions[['subject_id','admittime','admittime_24']]\n",
        "df_time_range.drop_duplicates(inplace=True)\n",
        "df_time_range.to_pickle(\"/content/drive/MyDrive/assignments/Spring24/MLHealth/Final Project/Output/df_time_range.pkl\")"
      ]
    },
    {
      "cell_type": "markdown",
      "metadata": {
        "id": "_0MW0fWmEhoR"
      },
      "source": [
        "**Identify Sepsis Patients**"
      ]
    },
    {
      "cell_type": "code",
      "execution_count": null,
      "metadata": {
        "id": "zVT1nZq4LQP8"
      },
      "outputs": [],
      "source": [
        "def preprocess_str(x):\n",
        "  \"\"\"\n",
        "    Find patients diagnosed with Sepsis using ICD9 codes.\n",
        "    @p: pandas series 'diagnosis'\n",
        "    @r: dataframe with Sepsis patients\n",
        "  \"\"\"\n",
        "  x=str(x)\n",
        "  x=x.lower()\n",
        "  return x"
      ]
    },
    {
      "cell_type": "code",
      "execution_count": null,
      "metadata": {
        "colab": {
          "base_uri": "https://localhost:8080/",
          "height": 36
        },
        "id": "Khf3rvuFLuv8",
        "outputId": "a1bcdf2e-a65f-4975-ea0d-2b4e2c628665"
      },
      "outputs": [
        {
          "output_type": "execute_result",
          "data": {
            "text/plain": [
              "'There are 1194 patients in the ICU diagnosed with Severe Sepsis.'"
            ],
            "application/vnd.google.colaboratory.intrinsic+json": {
              "type": "string"
            }
          },
          "metadata": {},
          "execution_count": 6
        }
      ],
      "source": [
        "df_icd_diag['icd_lower']=df_icd_diag['icd9_code'].apply(preprocess_str)\n",
        "df_severe_sep=df_icd_diag[df_icd_diag['icd_lower'].str.contains(pat = '99592')]\n",
        "num_patients_sev_sep=df_severe_sep['subject_id'].nunique()\n",
        "'There are {} patients in the ICU diagnosed with Severe Sepsis.'.format(num_patients_sev_sep)"
      ]
    },
    {
      "cell_type": "code",
      "execution_count": null,
      "metadata": {
        "colab": {
          "base_uri": "https://localhost:8080/",
          "height": 36
        },
        "id": "buAAk57dOowv",
        "outputId": "f3348a7f-7503-434f-abb8-b35b352cdc62"
      },
      "outputs": [
        {
          "output_type": "execute_result",
          "data": {
            "text/plain": [
              "'There are 763 patients in the ICU diagnosed with Septic Shock.'"
            ],
            "application/vnd.google.colaboratory.intrinsic+json": {
              "type": "string"
            }
          },
          "metadata": {},
          "execution_count": 7
        }
      ],
      "source": [
        "df_sep_shock=df_icd_diag[df_icd_diag['icd_lower'].str.contains(pat = '78552')]\n",
        "num_patients_sep_shock=df_sep_shock['subject_id'].nunique()\n",
        "'There are {} patients in the ICU diagnosed with Septic Shock.'.format(num_patients_sep_shock)"
      ]
    },
    {
      "cell_type": "code",
      "execution_count": null,
      "metadata": {
        "id": "cFb50rrpSZF2"
      },
      "outputs": [],
      "source": [
        "df_sep=pd.concat([df_severe_sep, df_sep_shock], ignore_index=True)"
      ]
    },
    {
      "cell_type": "code",
      "execution_count": null,
      "metadata": {
        "colab": {
          "base_uri": "https://localhost:8080/",
          "height": 36
        },
        "id": "9qc4MFxlZs1H",
        "outputId": "c2ca1fc3-6c35-4bbd-972f-e06f2b29b01e"
      },
      "outputs": [
        {
          "output_type": "execute_result",
          "data": {
            "text/plain": [
              "'There are 1322 patients in the ICU diagnosed with Sepsis.'"
            ],
            "application/vnd.google.colaboratory.intrinsic+json": {
              "type": "string"
            }
          },
          "metadata": {},
          "execution_count": 9
        }
      ],
      "source": [
        "sub_id_sep=list(set(df_sep['subject_id'].to_list()))\n",
        "'There are {} patients in the ICU diagnosed with Sepsis.'.format(len(sub_id_sep))"
      ]
    },
    {
      "cell_type": "markdown",
      "metadata": {
        "id": "XDUvf6FpJjvc"
      },
      "source": [
        "**Heart Rate (BPM) Dataset**"
      ]
    },
    {
      "cell_type": "code",
      "execution_count": null,
      "metadata": {
        "colab": {
          "base_uri": "https://localhost:8080/",
          "height": 293
        },
        "id": "Skh85s8vJskC",
        "outputId": "8643bfc9-577d-4c3c-a406-16afad232b81"
      },
      "outputs": [
        {
          "output_type": "execute_result",
          "data": {
            "text/plain": [
              "   subject_id           admittime        admittime_24           charttime  \\\n",
              "0           2 2138-07-17 19:04:00 2138-07-18 19:04:00 2138-07-17 20:20:00   \n",
              "1           2 2138-07-17 19:04:00 2138-07-18 19:04:00 2138-07-17 20:30:00   \n",
              "2           2 2138-07-17 19:04:00 2138-07-18 19:04:00 2138-07-17 21:00:00   \n",
              "3           2 2138-07-17 19:04:00 2138-07-18 19:04:00 2138-07-17 22:00:00   \n",
              "4           3 2101-10-20 19:08:00 2101-10-21 19:08:00 2101-10-20 18:45:00   \n",
              "\n",
              "  value valueuom  \n",
              "0   148      bpm  \n",
              "1   131      bpm  \n",
              "2   144      bpm  \n",
              "3   140      bpm  \n",
              "4    95      BPM  "
            ],
            "text/html": [
              "\n",
              "  <div id=\"df-6453a071-1a08-45f4-bc29-8129a9ddd6ae\" class=\"colab-df-container\">\n",
              "    <div>\n",
              "<style scoped>\n",
              "    .dataframe tbody tr th:only-of-type {\n",
              "        vertical-align: middle;\n",
              "    }\n",
              "\n",
              "    .dataframe tbody tr th {\n",
              "        vertical-align: top;\n",
              "    }\n",
              "\n",
              "    .dataframe thead th {\n",
              "        text-align: right;\n",
              "    }\n",
              "</style>\n",
              "<table border=\"1\" class=\"dataframe\">\n",
              "  <thead>\n",
              "    <tr style=\"text-align: right;\">\n",
              "      <th></th>\n",
              "      <th>subject_id</th>\n",
              "      <th>admittime</th>\n",
              "      <th>admittime_24</th>\n",
              "      <th>charttime</th>\n",
              "      <th>value</th>\n",
              "      <th>valueuom</th>\n",
              "    </tr>\n",
              "  </thead>\n",
              "  <tbody>\n",
              "    <tr>\n",
              "      <th>0</th>\n",
              "      <td>2</td>\n",
              "      <td>2138-07-17 19:04:00</td>\n",
              "      <td>2138-07-18 19:04:00</td>\n",
              "      <td>2138-07-17 20:20:00</td>\n",
              "      <td>148</td>\n",
              "      <td>bpm</td>\n",
              "    </tr>\n",
              "    <tr>\n",
              "      <th>1</th>\n",
              "      <td>2</td>\n",
              "      <td>2138-07-17 19:04:00</td>\n",
              "      <td>2138-07-18 19:04:00</td>\n",
              "      <td>2138-07-17 20:30:00</td>\n",
              "      <td>131</td>\n",
              "      <td>bpm</td>\n",
              "    </tr>\n",
              "    <tr>\n",
              "      <th>2</th>\n",
              "      <td>2</td>\n",
              "      <td>2138-07-17 19:04:00</td>\n",
              "      <td>2138-07-18 19:04:00</td>\n",
              "      <td>2138-07-17 21:00:00</td>\n",
              "      <td>144</td>\n",
              "      <td>bpm</td>\n",
              "    </tr>\n",
              "    <tr>\n",
              "      <th>3</th>\n",
              "      <td>2</td>\n",
              "      <td>2138-07-17 19:04:00</td>\n",
              "      <td>2138-07-18 19:04:00</td>\n",
              "      <td>2138-07-17 22:00:00</td>\n",
              "      <td>140</td>\n",
              "      <td>bpm</td>\n",
              "    </tr>\n",
              "    <tr>\n",
              "      <th>4</th>\n",
              "      <td>3</td>\n",
              "      <td>2101-10-20 19:08:00</td>\n",
              "      <td>2101-10-21 19:08:00</td>\n",
              "      <td>2101-10-20 18:45:00</td>\n",
              "      <td>95</td>\n",
              "      <td>BPM</td>\n",
              "    </tr>\n",
              "  </tbody>\n",
              "</table>\n",
              "</div>\n",
              "    <div class=\"colab-df-buttons\">\n",
              "\n",
              "  <div class=\"colab-df-container\">\n",
              "    <button class=\"colab-df-convert\" onclick=\"convertToInteractive('df-6453a071-1a08-45f4-bc29-8129a9ddd6ae')\"\n",
              "            title=\"Convert this dataframe to an interactive table.\"\n",
              "            style=\"display:none;\">\n",
              "\n",
              "  <svg xmlns=\"http://www.w3.org/2000/svg\" height=\"24px\" viewBox=\"0 -960 960 960\">\n",
              "    <path d=\"M120-120v-720h720v720H120Zm60-500h600v-160H180v160Zm220 220h160v-160H400v160Zm0 220h160v-160H400v160ZM180-400h160v-160H180v160Zm440 0h160v-160H620v160ZM180-180h160v-160H180v160Zm440 0h160v-160H620v160Z\"/>\n",
              "  </svg>\n",
              "    </button>\n",
              "\n",
              "  <style>\n",
              "    .colab-df-container {\n",
              "      display:flex;\n",
              "      gap: 12px;\n",
              "    }\n",
              "\n",
              "    .colab-df-convert {\n",
              "      background-color: #E8F0FE;\n",
              "      border: none;\n",
              "      border-radius: 50%;\n",
              "      cursor: pointer;\n",
              "      display: none;\n",
              "      fill: #1967D2;\n",
              "      height: 32px;\n",
              "      padding: 0 0 0 0;\n",
              "      width: 32px;\n",
              "    }\n",
              "\n",
              "    .colab-df-convert:hover {\n",
              "      background-color: #E2EBFA;\n",
              "      box-shadow: 0px 1px 2px rgba(60, 64, 67, 0.3), 0px 1px 3px 1px rgba(60, 64, 67, 0.15);\n",
              "      fill: #174EA6;\n",
              "    }\n",
              "\n",
              "    .colab-df-buttons div {\n",
              "      margin-bottom: 4px;\n",
              "    }\n",
              "\n",
              "    [theme=dark] .colab-df-convert {\n",
              "      background-color: #3B4455;\n",
              "      fill: #D2E3FC;\n",
              "    }\n",
              "\n",
              "    [theme=dark] .colab-df-convert:hover {\n",
              "      background-color: #434B5C;\n",
              "      box-shadow: 0px 1px 3px 1px rgba(0, 0, 0, 0.15);\n",
              "      filter: drop-shadow(0px 1px 2px rgba(0, 0, 0, 0.3));\n",
              "      fill: #FFFFFF;\n",
              "    }\n",
              "  </style>\n",
              "\n",
              "    <script>\n",
              "      const buttonEl =\n",
              "        document.querySelector('#df-6453a071-1a08-45f4-bc29-8129a9ddd6ae button.colab-df-convert');\n",
              "      buttonEl.style.display =\n",
              "        google.colab.kernel.accessAllowed ? 'block' : 'none';\n",
              "\n",
              "      async function convertToInteractive(key) {\n",
              "        const element = document.querySelector('#df-6453a071-1a08-45f4-bc29-8129a9ddd6ae');\n",
              "        const dataTable =\n",
              "          await google.colab.kernel.invokeFunction('convertToInteractive',\n",
              "                                                    [key], {});\n",
              "        if (!dataTable) return;\n",
              "\n",
              "        const docLinkHtml = 'Like what you see? Visit the ' +\n",
              "          '<a target=\"_blank\" href=https://colab.research.google.com/notebooks/data_table.ipynb>data table notebook</a>'\n",
              "          + ' to learn more about interactive tables.';\n",
              "        element.innerHTML = '';\n",
              "        dataTable['output_type'] = 'display_data';\n",
              "        await google.colab.output.renderOutput(dataTable, element);\n",
              "        const docLink = document.createElement('div');\n",
              "        docLink.innerHTML = docLinkHtml;\n",
              "        element.appendChild(docLink);\n",
              "      }\n",
              "    </script>\n",
              "  </div>\n",
              "\n",
              "\n",
              "<div id=\"df-210883e0-65f2-4840-ae22-89ab7b89955d\">\n",
              "  <button class=\"colab-df-quickchart\" onclick=\"quickchart('df-210883e0-65f2-4840-ae22-89ab7b89955d')\"\n",
              "            title=\"Suggest charts\"\n",
              "            style=\"display:none;\">\n",
              "\n",
              "<svg xmlns=\"http://www.w3.org/2000/svg\" height=\"24px\"viewBox=\"0 0 24 24\"\n",
              "     width=\"24px\">\n",
              "    <g>\n",
              "        <path d=\"M19 3H5c-1.1 0-2 .9-2 2v14c0 1.1.9 2 2 2h14c1.1 0 2-.9 2-2V5c0-1.1-.9-2-2-2zM9 17H7v-7h2v7zm4 0h-2V7h2v10zm4 0h-2v-4h2v4z\"/>\n",
              "    </g>\n",
              "</svg>\n",
              "  </button>\n",
              "\n",
              "<style>\n",
              "  .colab-df-quickchart {\n",
              "      --bg-color: #E8F0FE;\n",
              "      --fill-color: #1967D2;\n",
              "      --hover-bg-color: #E2EBFA;\n",
              "      --hover-fill-color: #174EA6;\n",
              "      --disabled-fill-color: #AAA;\n",
              "      --disabled-bg-color: #DDD;\n",
              "  }\n",
              "\n",
              "  [theme=dark] .colab-df-quickchart {\n",
              "      --bg-color: #3B4455;\n",
              "      --fill-color: #D2E3FC;\n",
              "      --hover-bg-color: #434B5C;\n",
              "      --hover-fill-color: #FFFFFF;\n",
              "      --disabled-bg-color: #3B4455;\n",
              "      --disabled-fill-color: #666;\n",
              "  }\n",
              "\n",
              "  .colab-df-quickchart {\n",
              "    background-color: var(--bg-color);\n",
              "    border: none;\n",
              "    border-radius: 50%;\n",
              "    cursor: pointer;\n",
              "    display: none;\n",
              "    fill: var(--fill-color);\n",
              "    height: 32px;\n",
              "    padding: 0;\n",
              "    width: 32px;\n",
              "  }\n",
              "\n",
              "  .colab-df-quickchart:hover {\n",
              "    background-color: var(--hover-bg-color);\n",
              "    box-shadow: 0 1px 2px rgba(60, 64, 67, 0.3), 0 1px 3px 1px rgba(60, 64, 67, 0.15);\n",
              "    fill: var(--button-hover-fill-color);\n",
              "  }\n",
              "\n",
              "  .colab-df-quickchart-complete:disabled,\n",
              "  .colab-df-quickchart-complete:disabled:hover {\n",
              "    background-color: var(--disabled-bg-color);\n",
              "    fill: var(--disabled-fill-color);\n",
              "    box-shadow: none;\n",
              "  }\n",
              "\n",
              "  .colab-df-spinner {\n",
              "    border: 2px solid var(--fill-color);\n",
              "    border-color: transparent;\n",
              "    border-bottom-color: var(--fill-color);\n",
              "    animation:\n",
              "      spin 1s steps(1) infinite;\n",
              "  }\n",
              "\n",
              "  @keyframes spin {\n",
              "    0% {\n",
              "      border-color: transparent;\n",
              "      border-bottom-color: var(--fill-color);\n",
              "      border-left-color: var(--fill-color);\n",
              "    }\n",
              "    20% {\n",
              "      border-color: transparent;\n",
              "      border-left-color: var(--fill-color);\n",
              "      border-top-color: var(--fill-color);\n",
              "    }\n",
              "    30% {\n",
              "      border-color: transparent;\n",
              "      border-left-color: var(--fill-color);\n",
              "      border-top-color: var(--fill-color);\n",
              "      border-right-color: var(--fill-color);\n",
              "    }\n",
              "    40% {\n",
              "      border-color: transparent;\n",
              "      border-right-color: var(--fill-color);\n",
              "      border-top-color: var(--fill-color);\n",
              "    }\n",
              "    60% {\n",
              "      border-color: transparent;\n",
              "      border-right-color: var(--fill-color);\n",
              "    }\n",
              "    80% {\n",
              "      border-color: transparent;\n",
              "      border-right-color: var(--fill-color);\n",
              "      border-bottom-color: var(--fill-color);\n",
              "    }\n",
              "    90% {\n",
              "      border-color: transparent;\n",
              "      border-bottom-color: var(--fill-color);\n",
              "    }\n",
              "  }\n",
              "</style>\n",
              "\n",
              "  <script>\n",
              "    async function quickchart(key) {\n",
              "      const quickchartButtonEl =\n",
              "        document.querySelector('#' + key + ' button');\n",
              "      quickchartButtonEl.disabled = true;  // To prevent multiple clicks.\n",
              "      quickchartButtonEl.classList.add('colab-df-spinner');\n",
              "      try {\n",
              "        const charts = await google.colab.kernel.invokeFunction(\n",
              "            'suggestCharts', [key], {});\n",
              "      } catch (error) {\n",
              "        console.error('Error during call to suggestCharts:', error);\n",
              "      }\n",
              "      quickchartButtonEl.classList.remove('colab-df-spinner');\n",
              "      quickchartButtonEl.classList.add('colab-df-quickchart-complete');\n",
              "    }\n",
              "    (() => {\n",
              "      let quickchartButtonEl =\n",
              "        document.querySelector('#df-210883e0-65f2-4840-ae22-89ab7b89955d button');\n",
              "      quickchartButtonEl.style.display =\n",
              "        google.colab.kernel.accessAllowed ? 'block' : 'none';\n",
              "    })();\n",
              "  </script>\n",
              "</div>\n",
              "    </div>\n",
              "  </div>\n"
            ],
            "application/vnd.google.colaboratory.intrinsic+json": {
              "type": "dataframe",
              "variable_name": "bpm_df"
            }
          },
          "metadata": {},
          "execution_count": 10
        }
      ],
      "source": [
        "bpm_df_lst=[chunk[(chunk['valueuom']=='bpm') | (chunk['valueuom']=='BPM')] for chunk in chart_events_chunk]\n",
        "for i in range(len(bpm_df_lst)-1, 0, -1):\n",
        "    if bpm_df_lst[i].empty:\n",
        "        del bpm_df_lst[i]\n",
        "bpm_df=pd.concat(bpm_df_lst)\n",
        "bpm_df['charttime'] = pd.to_datetime(bpm_df['charttime'], infer_datetime_format=True)\n",
        "bpm_df=pd.merge(df_time_range,bpm_df, how='inner', on = 'subject_id')\n",
        "bpm_df.head()"
      ]
    },
    {
      "cell_type": "code",
      "execution_count": null,
      "metadata": {
        "id": "CL0l48kpPRwr"
      },
      "outputs": [],
      "source": [
        "bpm_df24=bpm_df.loc[(bpm_df['charttime']>=bpm_df['admittime'])&(bpm_df['charttime']<=bpm_df['admittime_24'])]\n",
        "bpm_df24.to_pickle(\"/content/drive/MyDrive/assignments/Spring24/MLHealth/Final Project/Output/bpm_df24.pkl\")"
      ]
    },
    {
      "cell_type": "markdown",
      "metadata": {
        "id": "orKMpUJ6P2UP"
      },
      "source": [
        "**Breath per Minute**"
      ]
    },
    {
      "cell_type": "code",
      "execution_count": null,
      "metadata": {
        "id": "BBWHJ2-fP-3E"
      },
      "outputs": [],
      "source": [
        "chart_events_chunk=pd.read_csv('/content/drive/MyDrive/assignments/Spring24/MLHealth/Final Project/mimic-iii-clinical-database-carevue-subset-1.4/CHARTEVENTS.csv.gz', compression='gzip', usecols=['subject_id','charttime','value','valueuom'], na_filter=False, chunksize=10000)\n",
        "breath_df_lst=[chunk[chunk['valueuom']=='Breath'] for chunk in chart_events_chunk]\n",
        "for i in range(len(breath_df_lst)-1, 0, -1):\n",
        "    if breath_df_lst[i].empty:\n",
        "        del breath_df_lst[i]\n",
        "breath_df=pd.concat(breath_df_lst)\n",
        "breath_df['charttime'] = pd.to_datetime(breath_df['charttime'], infer_datetime_format=True)\n",
        "breath_df=pd.merge(df_time_range,breath_df, how='inner', on = 'subject_id')\n",
        "breath_df24=breath_df.loc[(breath_df['charttime']>=breath_df['admittime'])&(breath_df['charttime']<=breath_df['admittime_24'])]\n",
        "breath_df24.head()\n",
        "breath_df24.to_pickle(\"/content/drive/MyDrive/assignments/Spring24/MLHealth/Final Project/Output/breath_df24.pkl\")"
      ]
    },
    {
      "cell_type": "markdown",
      "source": [
        "**Blood Pressure**"
      ],
      "metadata": {
        "id": "Ecn5KHJRlVMy"
      }
    },
    {
      "cell_type": "code",
      "source": [
        "chart_events_chunk=pd.read_csv('/content/drive/MyDrive/assignments/Spring24/MLHealth/Final Project/mimic-iii-clinical-database-carevue-subset-1.4/CHARTEVENTS.csv.gz', compression='gzip', usecols=['subject_id','charttime','value','valueuom'], na_filter=False, chunksize=10000)\n",
        "bp_df_lst=[chunk[chunk['valueuom']=='mmHg'] for chunk in chart_events_chunk]\n",
        "for i in range(len(bp_df_lst)-1, 0, -1):\n",
        "    if bp_df_lst[i].empty:\n",
        "        del bp_df_lst[i]\n",
        "bp_df=pd.concat(bp_df_lst)\n",
        "bp_df['charttime'] = pd.to_datetime(bp_df['charttime'], infer_datetime_format=True)\n",
        "bp_df=pd.merge(df_time_range,bp_df, how='inner', on = 'subject_id')\n",
        "bp_df24=bp_df.loc[(bp_df['charttime']>=bp_df['admittime'])&(bp_df['charttime']<=bp_df['admittime_24'])]\n",
        "bp_df24.head()\n",
        "bp_df24.to_pickle(\"/content/drive/MyDrive/assignments/Spring24/MLHealth/Final Project/Output/bp_df24.pkl\")"
      ],
      "metadata": {
        "id": "EkPbUxCvlYAO"
      },
      "execution_count": null,
      "outputs": []
    },
    {
      "cell_type": "markdown",
      "source": [
        "**Chart Events Sepsis Patients**"
      ],
      "metadata": {
        "id": "0Q8IbvXiIRPk"
      }
    },
    {
      "cell_type": "code",
      "source": [
        "chart_events_chunk=pd.read_csv('/content/drive/MyDrive/assignments/Spring24/MLHealth/Final Project/mimic-iii-clinical-database-carevue-subset-1.4/CHARTEVENTS.csv.gz', compression='gzip', usecols=['subject_id','charttime','value','valueuom','itemid'], na_filter=False, chunksize=10000)\n",
        "sepsis_chart_events_df_lst=[chunk[chunk['subject_id'].isin(sub_id_sep)] for chunk in chart_events_chunk]\n",
        "for i in range(len(sepsis_chart_events_df_lst)-1, 0, -1):\n",
        "    if sepsis_chart_events_df_lst[i].empty:\n",
        "        del sepsis_chart_events_df_lst[i]\n",
        "sepsis_chart_events_df=pd.concat(sepsis_chart_events_df_lst)\n",
        "sepsis_chart_events_df.head()\n",
        "sepsis_chart_events_df.to_pickle(\"/content/drive/MyDrive/assignments/Spring24/MLHealth/Final Project/Output/sepsis_chart_events_df.pkl\")"
      ],
      "metadata": {
        "id": "nTOiahT6IVif"
      },
      "execution_count": null,
      "outputs": []
    },
    {
      "cell_type": "markdown",
      "metadata": {
        "id": "gUGg9eudRS48"
      },
      "source": [
        "**Number of Records in the Admissions Dataframe**"
      ]
    },
    {
      "cell_type": "code",
      "execution_count": null,
      "metadata": {
        "id": "N-tLue2zRX-E",
        "colab": {
          "base_uri": "https://localhost:8080/",
          "height": 36
        },
        "outputId": "d1216654-ba27-43f2-9005-9deabb483cd1"
      },
      "outputs": [
        {
          "output_type": "execute_result",
          "data": {
            "text/plain": [
              "'There are 26836 records in the admissions dataset'"
            ],
            "application/vnd.google.colaboratory.intrinsic+json": {
              "type": "string"
            }
          },
          "metadata": {},
          "execution_count": 10
        }
      ],
      "source": [
        "'There are {} records in the admissions dataset'.format(df_admissions.shape[0])"
      ]
    },
    {
      "cell_type": "markdown",
      "metadata": {
        "id": "D1g6RBr3Psqj"
      },
      "source": [
        "**Number of Nans in the Admissions Dataset**"
      ]
    },
    {
      "cell_type": "code",
      "execution_count": null,
      "metadata": {
        "id": "nWzxDC2nPxS0",
        "colab": {
          "base_uri": "https://localhost:8080/",
          "height": 36
        },
        "outputId": "0889bed4-978d-4a66-d6c8-4bdde9a3258b"
      },
      "outputs": [
        {
          "output_type": "execute_result",
          "data": {
            "text/plain": [
              "'1 patient is missing a diagnosis'"
            ],
            "application/vnd.google.colaboratory.intrinsic+json": {
              "type": "string"
            }
          },
          "metadata": {},
          "execution_count": 11
        }
      ],
      "source": [
        "'{} patient is missing a diagnosis'.format(df_admissions['diagnosis'].isna().sum())"
      ]
    },
    {
      "cell_type": "code",
      "execution_count": null,
      "metadata": {
        "id": "3DkUy27qUwZv"
      },
      "outputs": [],
      "source": [
        "df_admissions.isna().sum()"
      ]
    },
    {
      "cell_type": "markdown",
      "metadata": {
        "id": "aCYbNOpqFNEw"
      },
      "source": [
        "**Distribution of Patients Gender**"
      ]
    },
    {
      "cell_type": "code",
      "execution_count": null,
      "metadata": {
        "id": "98QInSIqE3SJ",
        "colab": {
          "base_uri": "https://localhost:8080/",
          "height": 608
        },
        "outputId": "9615ae5a-23fa-4c25-eda4-11be4c0b22cf"
      },
      "outputs": [
        {
          "output_type": "stream",
          "name": "stdout",
          "text": [
            "  gender  subject_id\n",
            "0      F         576\n",
            "1      M         746\n"
          ]
        },
        {
          "output_type": "stream",
          "name": "stderr",
          "text": [
            "<ipython-input-24-25958caabdd6>:10: FutureWarning: \n",
            "\n",
            "Passing `palette` without assigning `hue` is deprecated and will be removed in v0.14.0. Assign the `x` variable to `hue` and set `legend=False` for the same effect.\n",
            "\n",
            "  sns.barplot(data=fem_mal_df, x='Gender', y=\"Count\", palette=\"deep\")\n"
          ]
        },
        {
          "output_type": "display_data",
          "data": {
            "text/plain": [
              "<Figure size 640x480 with 1 Axes>"
            ],
            "image/png": "[encoded data removed]"
          },
          "metadata": {}
        }
      ],
      "source": [
        "df_gender=df_patients[df_patients['subject_id'].isin(sub_id_sep)][['subject_id','gender']]\n",
        "df_gender.to_pickle(\"/content/drive/MyDrive/assignments/Spring24/MLHealth/Final Project/Output/df_gender_sepsis.pkl\")\n",
        "\n",
        "fem_mal_df=df_gender.groupby(['gender']).count().reset_index()\n",
        "\n",
        "print(fem_mal_df)\n",
        "\n",
        "fem_mal_df.rename(columns={\"subject_id\": \"Count\",\"gender\": \"Gender\"}, inplace=True)\n",
        "\n",
        "sns.barplot(data=fem_mal_df, x='Gender', y=\"Count\", palette=\"deep\")\n",
        "\n",
        "plt.savefig(\"/content/drive/MyDrive/assignments/Spring24/MLHealth/Final Project/Output/gender.png\")"
      ]
    },
    {
      "cell_type": "markdown",
      "metadata": {
        "id": "hmyZBsxCUSup"
      },
      "source": [
        "**Distribution of Ethnicity within the ICU**"
      ]
    },
    {
      "cell_type": "code",
      "execution_count": null,
      "metadata": {
        "id": "oxz6YwxYUaoc",
        "colab": {
          "base_uri": "https://localhost:8080/",
          "height": 1000
        },
        "outputId": "054f04a1-c597-48ed-b7e9-3a0e7347dcd8"
      },
      "outputs": [
        {
          "output_type": "stream",
          "name": "stdout",
          "text": [
            "                                     Ethicity  Count\n",
            "16                                      WHITE   1530\n",
            "6                      BLACK/AFRICAN AMERICAN    225\n",
            "15                      UNKNOWN/NOT SPECIFIED    151\n",
            "1                                       ASIAN     44\n",
            "12                                      OTHER     40\n",
            "8                          HISPANIC OR LATINO     37\n",
            "13                 PATIENT DECLINED TO ANSWER     15\n",
            "14                           UNABLE TO OBTAIN     11\n",
            "4                             ASIAN - CHINESE      6\n",
            "0               AMERICAN INDIAN/ALASKA NATIVE      3\n",
            "9              HISPANIC/LATINO - PUERTO RICAN      3\n",
            "10                       MULTI RACE ETHNICITY      2\n",
            "5                          ASIAN - VIETNAMESE      2\n",
            "2                        ASIAN - ASIAN INDIAN      2\n",
            "17                          WHITE - BRAZILIAN      2\n",
            "11  NATIVE HAWAIIAN OR OTHER PACIFIC ISLANDER      1\n",
            "7                          BLACK/CAPE VERDEAN      1\n",
            "3                           ASIAN - CAMBODIAN      1\n",
            "18                            WHITE - RUSSIAN      1\n"
          ]
        },
        {
          "output_type": "stream",
          "name": "stderr",
          "text": [
            "<ipython-input-25-72296ca14bb3>:12: FutureWarning: \n",
            "\n",
            "Passing `palette` without assigning `hue` is deprecated and will be removed in v0.14.0. Assign the `x` variable to `hue` and set `legend=False` for the same effect.\n",
            "\n",
            "  sns.barplot(data=df_ethnicity_dist, x='Ethicity', y=\"Count\", palette=\"deep\")\n"
          ]
        },
        {
          "output_type": "display_data",
          "data": {
            "text/plain": [
              "<Figure size 640x480 with 1 Axes>"
            ],
            "image/png": "[encoded data removed]"
          },
          "metadata": {}
        }
      ],
      "source": [
        "df_ethnicity=df_admissions[df_admissions['subject_id'].isin(sub_id_sep)][['subject_id','ethnicity']]\n",
        "df_ethnicity.to_pickle(\"/content/drive/MyDrive/assignments/Spring24/MLHealth/Final Project/Output/df_ethnicity_sepsis.pkl\")\n",
        "\n",
        "df_ethnicity_dist=df_ethnicity.groupby(['ethnicity']).count().reset_index()\n",
        "\n",
        "df_ethnicity_dist.rename(columns={\"subject_id\": \"Count\",\"ethnicity\": \"Ethicity\"}, inplace=True)\n",
        "\n",
        "df_ethnicity_dist.sort_values(by='Count', ascending=False, inplace=True)\n",
        "\n",
        "print(df_ethnicity_dist)\n",
        "\n",
        "sns.barplot(data=df_ethnicity_dist, x='Ethicity', y=\"Count\", palette=\"deep\")\n",
        "\n",
        "plt.xticks(rotation = 90)\n",
        "\n",
        "plt.savefig(\"/content/drive/MyDrive/assignments/Spring24/MLHealth/Final Project/Output/ethnicity.png\")"
      ]
    },
    {
      "cell_type": "markdown",
      "metadata": {
        "id": "L3LLF37rF-oN"
      },
      "source": [
        "**Distribution of Insurance Types for Sepsis Patients**"
      ]
    },
    {
      "cell_type": "code",
      "execution_count": null,
      "metadata": {
        "id": "aElhdWbXFheK",
        "colab": {
          "base_uri": "https://localhost:8080/",
          "height": 660
        },
        "outputId": "4b1b07ee-0fef-41df-f851-ab0afcff9e70"
      },
      "outputs": [
        {
          "output_type": "stream",
          "name": "stdout",
          "text": [
            "    insurance  subject_id\n",
            "0  Government          30\n",
            "1    Medicaid          98\n",
            "2    Medicare         876\n",
            "3     Private         341\n",
            "4    Self Pay          15\n"
          ]
        },
        {
          "output_type": "stream",
          "name": "stderr",
          "text": [
            "<ipython-input-26-bc366ab18494>:13: FutureWarning: \n",
            "\n",
            "Passing `palette` without assigning `hue` is deprecated and will be removed in v0.14.0. Assign the `x` variable to `hue` and set `legend=False` for the same effect.\n",
            "\n",
            "  sns.barplot(data=insur_df_cnt, x='Insurance', y=\"Count\", palette=\"deep\")\n"
          ]
        },
        {
          "output_type": "display_data",
          "data": {
            "text/plain": [
              "<Figure size 640x480 with 1 Axes>"
            ],
            "image/png": "[encoded data removed]"
          },
          "metadata": {}
        }
      ],
      "source": [
        "df_insur_sepsis=df_admissions[df_admissions['subject_id'].isin(sub_id_sep)][['subject_id','insurance']]\n",
        "\n",
        "df_insur_sepsis.drop_duplicates(subset=['subject_id','insurance'],inplace=True)\n",
        "\n",
        "df_insur_sepsis.to_pickle(\"/content/drive/MyDrive/assignments/Spring24/MLHealth/Final Project/Output/df_insur_sepsis.pkl\")\n",
        "\n",
        "insur_df_cnt=df_insur_sepsis.groupby(['insurance']).nunique().reset_index()\n",
        "\n",
        "print(insur_df_cnt)\n",
        "\n",
        "insur_df_cnt.rename(columns={\"subject_id\": \"Count\",\"insurance\": \"Insurance\"}, inplace=True)\n",
        "\n",
        "sns.barplot(data=insur_df_cnt, x='Insurance', y=\"Count\", palette=\"deep\")\n",
        "\n",
        "plt.savefig(\"/content/drive/MyDrive/assignments/Spring24/MLHealth/Final Project/Output/insurance.png\")"
      ]
    },
    {
      "cell_type": "markdown",
      "metadata": {
        "id": "SrpKC6-aGv4t"
      },
      "source": [
        "**Top 3 Drugs used by Sepsis Patients in the ICU**"
      ]
    },
    {
      "cell_type": "code",
      "execution_count": null,
      "metadata": {
        "id": "_vMVqaEdGR4P",
        "colab": {
          "base_uri": "https://localhost:8080/",
          "height": 722
        },
        "outputId": "cba2b9fb-f265-4af0-a597-f60bfe3c9243"
      },
      "outputs": [
        {
          "output_type": "stream",
          "name": "stdout",
          "text": [
            "                      Drug  Count\n",
            "923                     NS   1301\n",
            "370                    D5W   1291\n",
            "695   Iso-Osmotic Dextrose   1234\n",
            "1113    Potassium Chloride   1162\n",
            "679                Insulin   1087\n"
          ]
        },
        {
          "output_type": "stream",
          "name": "stderr",
          "text": [
            "<ipython-input-27-f275aec0109e>:8: FutureWarning: \n",
            "\n",
            "Passing `palette` without assigning `hue` is deprecated and will be removed in v0.14.0. Assign the `x` variable to `hue` and set `legend=False` for the same effect.\n",
            "\n",
            "  sns.barplot(data=df_top_5_drugs, x='Drug', y=\"Count\", palette=\"deep\")\n"
          ]
        },
        {
          "output_type": "display_data",
          "data": {
            "text/plain": [
              "<Figure size 640x480 with 1 Axes>"
            ],
            "image/png": "[encoded data removed]"
          },
          "metadata": {}
        }
      ],
      "source": [
        "df_drug_sep=df_presciptions[df_presciptions['subject_id'].isin(sub_id_sep)][['subject_id','drug']]\n",
        "df_drug_sep.to_pickle(\"/content/drive/MyDrive/assignments/Spring24/MLHealth/Final Project/Output/df_drug_sepsis.pkl\")\n",
        "\n",
        "df_drug=df_drug_sep.groupby(['drug']).nunique().reset_index()\n",
        "df_drug.rename(columns={\"subject_id\": \"Count\",\"drug\": \"Drug\"}, inplace=True)\n",
        "df_top_5_drugs=df_drug.nlargest(5, 'Count')\n",
        "print(df_top_5_drugs)\n",
        "sns.barplot(data=df_top_5_drugs, x='Drug', y=\"Count\", palette=\"deep\")\n",
        "plt.xticks(rotation = 25)\n",
        "\n",
        "plt.savefig(\"/content/drive/MyDrive/assignments/Spring24/MLHealth/Final Project/Output/top5Drugs.png\")"
      ]
    },
    {
      "cell_type": "markdown",
      "metadata": {
        "id": "Gwwa49UxOAaW"
      },
      "source": [
        "**Distribution of Medications per Person**"
      ]
    },
    {
      "cell_type": "code",
      "execution_count": null,
      "metadata": {
        "id": "dmp1MwtHMEYS",
        "colab": {
          "base_uri": "https://localhost:8080/",
          "height": 660
        },
        "outputId": "f873a0b6-8166-4dbf-8ced-bcc512ff7a4b"
      },
      "outputs": [
        {
          "output_type": "stream",
          "name": "stdout",
          "text": [
            "     subject_id  Number of Medications\n",
            "589       12613                    175\n",
            "374        7985                    165\n",
            "726       15952                    163\n",
            "167        3683                    162\n",
            "486       10434                    162\n",
            "subject_id               14260.0\n",
            "Number of Medications       54.0\n",
            "dtype: float64\n"
          ]
        },
        {
          "output_type": "stream",
          "name": "stderr",
          "text": [
            "<ipython-input-28-4a29c6f7a385>:9: UserWarning: Ignoring `palette` because no `hue` variable has been assigned.\n",
            "  sns.histplot(data=df_drug_per_patient, x=\"Number of Medications\",palette=\"Deep\")\n"
          ]
        },
        {
          "output_type": "display_data",
          "data": {
            "text/plain": [
              "<Figure size 640x480 with 1 Axes>"
            ],
            "image/png": "[encoded data removed]"
          },
          "metadata": {}
        }
      ],
      "source": [
        "df_drug_per_patient=df_drug_sep.groupby(['subject_id']).nunique().reset_index()\n",
        "df_drug_per_patient.rename(columns={\"drug\": \"Number of Medications\"}, inplace=True)\n",
        "\n",
        "df_drug_per_patient.to_pickle(\"/content/drive/MyDrive/assignments/Spring24/MLHealth/Final Project/Output/df_drug_per_patient_sepsis.pkl\")\n",
        "\n",
        "print(df_drug_per_patient.nlargest(5, 'Number of Medications'))\n",
        "\n",
        "print(df_drug_per_patient.median())\n",
        "sns.histplot(data=df_drug_per_patient, x=\"Number of Medications\",palette=\"Deep\")\n",
        "\n",
        "plt.savefig(\"/content/drive/MyDrive/assignments/Spring24/MLHealth/Final Project/Output/drugs_per_patient.png\")"
      ]
    },
    {
      "cell_type": "code",
      "source": [],
      "metadata": {
        "id": "ekonp1WqKhDX"
      },
      "execution_count": null,
      "outputs": []
    }
  ],
  "metadata": {
    "colab": {
      "provenance": [],
      "mount_file_id": "1IdQRVU09SYhIEU0W577n6pUMEBPFrPIf",
      "authorship_tag": "ABX9TyMNerH+LUx/3uYnqdmykGFA",
      "include_colab_link": true
    },
    "kernelspec": {
      "display_name": "Python 3",
      "name": "python3"
    },
    "language_info": {
      "name": "python"
    }
  },
  "nbformat": 4,
  "nbformat_minor": 0
}